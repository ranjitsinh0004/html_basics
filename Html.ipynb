{
 "cells": [
  {
   "cell_type": "markdown",
   "id": "seven-category",
   "metadata": {},
   "source": [
    "# Meta"
   ]
  },
  {
   "cell_type": "markdown",
   "id": "purple-probability",
   "metadata": {},
   "source": [
    "## <meta charset=\"UTF-8\">"
   ]
  },
  {
   "cell_type": "markdown",
   "id": "premier-confirmation",
   "metadata": {},
   "source": [
    "* The HTML <meta> element represents metadata that cannot be represented by other HTML meta-related elements, like <base>, <link>, <script>, <style> or <title>.\n",
    "    \n",
    "* <meta> tags always go inside the <head> element, and are typically used to specify character set, page description, keywords, author of the document, and viewport settings.\n",
    "\n",
    "\n",
    "    \n",
    "* The charset attribute specifies the character encoding for the HTML document. The HTML5 specification encourages web developers to use the UTF-8 character set, which covers almost all of the characters and symbols in the world!\n",
    "                e.g description meta information will be dispayed as a description of that particular page when you search on the google"
   ]
  },
  {
   "cell_type": "markdown",
   "id": "paperback-milwaukee",
   "metadata": {},
   "source": []
  },
  {
   "cell_type": "code",
   "execution_count": null,
   "id": "informative-tournament",
   "metadata": {},
   "outputs": [],
   "source": [
    "<!DOCTYPE html>\n",
    "<html>\n",
    "<head>\n",
    "  <meta charset=\"UTF-8\">\n",
    "  <meta name=\"description\" content=\"Free Web tutorials\">\n",
    "  <meta name=\"keywords\" content=\"HTML,CSS,XML,JavaScript\">\n",
    "  <meta name=\"author\" content=\"John Doe\">\n",
    "  <meta name=\"viewport\" content=\"width=device-width, initial-scale=1.0\">\n",
    "</head>\n",
    "<body>\n",
    "\n",
    "<p>All meta information goes in the head section...</p>\n",
    "\n",
    "</body>\n",
    "</html>"
   ]
  }
 ],
 "metadata": {
  "kernelspec": {
   "display_name": "Python 3",
   "language": "python",
   "name": "python3"
  },
  "language_info": {
   "codemirror_mode": {
    "name": "ipython",
    "version": 3
   },
   "file_extension": ".py",
   "mimetype": "text/x-python",
   "name": "python",
   "nbconvert_exporter": "python",
   "pygments_lexer": "ipython3",
   "version": "3.8.5"
  }
 },
 "nbformat": 4,
 "nbformat_minor": 5
}
